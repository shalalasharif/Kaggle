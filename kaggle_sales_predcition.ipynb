{
 "cells": [
  {
   "cell_type": "code",
   "execution_count": 9,
   "metadata": {},
   "outputs": [
    {
     "name": "stdout",
     "output_type": "stream",
     "text": [
      "Requirement already satisfied: seaborn in c:\\users\\hp\\appdata\\local\\programs\\python\\python37\\lib\\site-packages (0.12.2)\n",
      "Requirement already satisfied: matplotlib!=3.6.1,>=3.1 in c:\\users\\hp\\appdata\\local\\programs\\python\\python37\\lib\\site-packages (from seaborn) (3.5.3)\n",
      "Requirement already satisfied: pandas>=0.25 in c:\\users\\hp\\appdata\\local\\programs\\python\\python37\\lib\\site-packages (from seaborn) (1.3.5)\n",
      "Requirement already satisfied: numpy!=1.24.0,>=1.17 in c:\\users\\hp\\appdata\\local\\programs\\python\\python37\\lib\\site-packages (from seaborn) (1.21.6)\n",
      "Requirement already satisfied: typing_extensions; python_version < \"3.8\" in c:\\users\\hp\\appdata\\local\\programs\\python\\python37\\lib\\site-packages (from seaborn) (4.7.1)\n",
      "Requirement already satisfied: python-dateutil>=2.7 in c:\\users\\hp\\appdata\\local\\programs\\python\\python37\\lib\\site-packages (from matplotlib!=3.6.1,>=3.1->seaborn) (2.8.2)\n",
      "Requirement already satisfied: fonttools>=4.22.0 in c:\\users\\hp\\appdata\\local\\programs\\python\\python37\\lib\\site-packages (from matplotlib!=3.6.1,>=3.1->seaborn) (4.38.0)\n",
      "Requirement already satisfied: pyparsing>=2.2.1 in c:\\users\\hp\\appdata\\local\\programs\\python\\python37\\lib\\site-packages (from matplotlib!=3.6.1,>=3.1->seaborn) (3.1.1)\n",
      "Requirement already satisfied: packaging>=20.0 in c:\\users\\hp\\appdata\\local\\programs\\python\\python37\\lib\\site-packages (from matplotlib!=3.6.1,>=3.1->seaborn) (23.1)\n",
      "Requirement already satisfied: kiwisolver>=1.0.1 in c:\\users\\hp\\appdata\\local\\programs\\python\\python37\\lib\\site-packages (from matplotlib!=3.6.1,>=3.1->seaborn) (1.4.5)\n",
      "Requirement already satisfied: cycler>=0.10 in c:\\users\\hp\\appdata\\local\\programs\\python\\python37\\lib\\site-packages (from matplotlib!=3.6.1,>=3.1->seaborn) (0.11.0)\n",
      "Requirement already satisfied: pillow>=6.2.0 in c:\\users\\hp\\appdata\\local\\programs\\python\\python37\\lib\\site-packages (from matplotlib!=3.6.1,>=3.1->seaborn) (9.5.0)\n",
      "Requirement already satisfied: pytz>=2017.3 in c:\\users\\hp\\appdata\\local\\programs\\python\\python37\\lib\\site-packages (from pandas>=0.25->seaborn) (2023.3.post1)\n",
      "Requirement already satisfied: six>=1.5 in c:\\users\\hp\\appdata\\local\\programs\\python\\python37\\lib\\site-packages (from python-dateutil>=2.7->matplotlib!=3.6.1,>=3.1->seaborn) (1.16.0)\n"
     ]
    },
    {
     "name": "stderr",
     "output_type": "stream",
     "text": [
      "WARNING: You are using pip version 19.2.3, however version 23.2.1 is available.\n",
      "You should consider upgrading via the 'python -m pip install --upgrade pip' command.\n"
     ]
    }
   ],
   "source": [
    "\n",
    "\n",
    "!pip install seaborn"
   ]
  },
  {
   "cell_type": "markdown",
   "metadata": {},
   "source": [
    "Problem Statement\n",
    "Build a model which predicts sales based on the money spent on different platforms for marketing.\n",
    "\n",
    "Data\n",
    "\n",
    "Use the advertising dataset given in ISLR and analyse the relationship between 'TV advertising' and 'sales' \n",
    "\n",
    "using a simple linear regression model. You can use scikit-learn to train linear regression."
   ]
  },
  {
   "cell_type": "code",
   "execution_count": 10,
   "metadata": {},
   "outputs": [],
   "source": [
    "import pandas as pd\n",
    "import numpy as np\n",
    "import seaborn as sns"
   ]
  },
  {
   "cell_type": "code",
   "execution_count": 25,
   "metadata": {},
   "outputs": [
    {
     "name": "stdout",
     "output_type": "stream",
     "text": [
      "Requirement already satisfied: seaborn in c:\\users\\hp\\appdata\\local\\programs\\python\\python37\\lib\\site-packages (0.12.2)\n",
      "Requirement already satisfied: numpy!=1.24.0,>=1.17 in c:\\users\\hp\\appdata\\local\\programs\\python\\python37\\lib\\site-packages (from seaborn) (1.21.6)\n",
      "Requirement already satisfied: matplotlib!=3.6.1,>=3.1 in c:\\users\\hp\\appdata\\local\\programs\\python\\python37\\lib\\site-packages (from seaborn) (3.5.3)\n",
      "Requirement already satisfied: pandas>=0.25 in c:\\users\\hp\\appdata\\local\\programs\\python\\python37\\lib\\site-packages (from seaborn) (1.3.5)\n",
      "Requirement already satisfied: typing_extensions; python_version < \"3.8\" in c:\\users\\hp\\appdata\\local\\programs\\python\\python37\\lib\\site-packages (from seaborn) (4.7.1)\n",
      "Requirement already satisfied: kiwisolver>=1.0.1 in c:\\users\\hp\\appdata\\local\\programs\\python\\python37\\lib\\site-packages (from matplotlib!=3.6.1,>=3.1->seaborn) (1.4.5)\n",
      "Requirement already satisfied: cycler>=0.10 in c:\\users\\hp\\appdata\\local\\programs\\python\\python37\\lib\\site-packages (from matplotlib!=3.6.1,>=3.1->seaborn) (0.11.0)\n",
      "Requirement already satisfied: fonttools>=4.22.0 in c:\\users\\hp\\appdata\\local\\programs\\python\\python37\\lib\\site-packages (from matplotlib!=3.6.1,>=3.1->seaborn) (4.38.0)\n",
      "Requirement already satisfied: pillow>=6.2.0 in c:\\users\\hp\\appdata\\local\\programs\\python\\python37\\lib\\site-packages (from matplotlib!=3.6.1,>=3.1->seaborn) (9.5.0)\n",
      "Requirement already satisfied: packaging>=20.0 in c:\\users\\hp\\appdata\\local\\programs\\python\\python37\\lib\\site-packages (from matplotlib!=3.6.1,>=3.1->seaborn) (23.1)\n",
      "Requirement already satisfied: python-dateutil>=2.7 in c:\\users\\hp\\appdata\\local\\programs\\python\\python37\\lib\\site-packages (from matplotlib!=3.6.1,>=3.1->seaborn) (2.8.2)\n",
      "Requirement already satisfied: pyparsing>=2.2.1 in c:\\users\\hp\\appdata\\local\\programs\\python\\python37\\lib\\site-packages (from matplotlib!=3.6.1,>=3.1->seaborn) (3.1.1)\n",
      "Requirement already satisfied: pytz>=2017.3 in c:\\users\\hp\\appdata\\local\\programs\\python\\python37\\lib\\site-packages (from pandas>=0.25->seaborn) (2023.3.post1)\n",
      "Requirement already satisfied: six>=1.5 in c:\\users\\hp\\appdata\\local\\programs\\python\\python37\\lib\\site-packages (from python-dateutil>=2.7->matplotlib!=3.6.1,>=3.1->seaborn) (1.16.0)\n"
     ]
    },
    {
     "name": "stderr",
     "output_type": "stream",
     "text": [
      "WARNING: You are using pip version 19.2.3, however version 23.2.1 is available.\n",
      "You should consider upgrading via the 'python -m pip install --upgrade pip' command.\n"
     ]
    },
    {
     "name": "stdout",
     "output_type": "stream",
     "text": [
      "Collecting seabornNote: you may need to restart the kernel to use updated packages.\n",
      "\n",
      "  Downloading seaborn-0.13.0-py3-none-any.whl (294 kB)\n",
      "                                              0.0/294.6 kB ? eta -:--:--\n",
      "     ----                                     30.7/294.6 kB ? eta -:--:--\n",
      "     -----                                 41.0/294.6 kB 393.8 kB/s eta 0:00:01\n",
      "     -------------                        112.6/294.6 kB 819.2 kB/s eta 0:00:01\n",
      "     -----------------                    143.4/294.6 kB 853.3 kB/s eta 0:00:01\n",
      "     ------------------------------         235.5/294.6 kB 1.1 MB/s eta 0:00:01\n",
      "     ------------------------------------   286.7/294.6 kB 1.1 MB/s eta 0:00:01\n",
      "     ------------------------------------   286.7/294.6 kB 1.1 MB/s eta 0:00:01\n",
      "     ------------------------------------   286.7/294.6 kB 1.1 MB/s eta 0:00:01\n",
      "     ------------------------------------   286.7/294.6 kB 1.1 MB/s eta 0:00:01\n",
      "     ------------------------------------ 294.6/294.6 kB 673.8 kB/s eta 0:00:00\n",
      "Requirement already satisfied: numpy!=1.24.0,>=1.20 in c:\\users\\hp\\appdata\\local\\programs\\python\\python310\\lib\\site-packages (from seaborn) (1.24.1)\n",
      "Requirement already satisfied: pandas>=1.2 in c:\\users\\hp\\appdata\\local\\programs\\python\\python310\\lib\\site-packages (from seaborn) (1.5.3)\n",
      "Collecting matplotlib!=3.6.1,>=3.3 (from seaborn)\n",
      "  Downloading matplotlib-3.8.0-cp310-cp310-win_amd64.whl (7.6 MB)\n",
      "                                              0.0/7.6 MB ? eta -:--:--\n",
      "     -                                        0.2/7.6 MB 14.1 MB/s eta 0:00:01\n",
      "     -                                        0.3/7.6 MB 3.2 MB/s eta 0:00:03\n",
      "     --                                       0.4/7.6 MB 3.0 MB/s eta 0:00:03\n",
      "     ---                                      0.6/7.6 MB 3.4 MB/s eta 0:00:03\n",
      "     ----                                     0.8/7.6 MB 3.7 MB/s eta 0:00:02\n",
      "     -----                                    1.1/7.6 MB 4.0 MB/s eta 0:00:02\n",
      "     ------                                   1.3/7.6 MB 4.0 MB/s eta 0:00:02\n",
      "     -------                                  1.5/7.6 MB 4.0 MB/s eta 0:00:02\n",
      "     ---------                                1.8/7.6 MB 4.1 MB/s eta 0:00:02\n",
      "     ----------                               2.0/7.6 MB 4.2 MB/s eta 0:00:02\n",
      "     -----------                              2.3/7.6 MB 4.3 MB/s eta 0:00:02\n",
      "     ------------                             2.5/7.6 MB 4.4 MB/s eta 0:00:02\n",
      "     -------------                            2.5/7.6 MB 4.3 MB/s eta 0:00:02\n",
      "     --------------                           2.7/7.6 MB 4.0 MB/s eta 0:00:02\n",
      "     ---------------                          3.0/7.6 MB 4.3 MB/s eta 0:00:02\n",
      "     -----------------                        3.3/7.6 MB 4.4 MB/s eta 0:00:02\n",
      "     ------------------                       3.6/7.6 MB 4.5 MB/s eta 0:00:01\n",
      "     --------------------                     3.9/7.6 MB 4.5 MB/s eta 0:00:01\n",
      "     ---------------------                    4.0/7.6 MB 4.5 MB/s eta 0:00:01\n",
      "     ---------------------                    4.0/7.6 MB 4.5 MB/s eta 0:00:01\n",
      "     -----------------------                  4.5/7.6 MB 4.5 MB/s eta 0:00:01\n",
      "     ------------------------                 4.6/7.6 MB 4.5 MB/s eta 0:00:01\n",
      "     ------------------------                 4.6/7.6 MB 4.5 MB/s eta 0:00:01\n",
      "     ------------------------                 4.6/7.6 MB 4.1 MB/s eta 0:00:01\n",
      "     -------------------------                5.0/7.6 MB 4.1 MB/s eta 0:00:01\n",
      "     ---------------------------              5.2/7.6 MB 4.3 MB/s eta 0:00:01\n",
      "     ----------------------------             5.4/7.6 MB 4.1 MB/s eta 0:00:01\n",
      "     ----------------------------             5.5/7.6 MB 4.2 MB/s eta 0:00:01\n",
      "     ------------------------------           5.9/7.6 MB 4.3 MB/s eta 0:00:01\n",
      "     --------------------------------         6.2/7.6 MB 4.4 MB/s eta 0:00:01\n",
      "     ---------------------------------        6.4/7.6 MB 4.4 MB/s eta 0:00:01\n",
      "     ----------------------------------       6.7/7.6 MB 4.4 MB/s eta 0:00:01\n",
      "     -----------------------------------      6.9/7.6 MB 4.5 MB/s eta 0:00:01\n",
      "     -------------------------------------    7.3/7.6 MB 4.5 MB/s eta 0:00:01\n",
      "     ---------------------------------------  7.6/7.6 MB 4.6 MB/s eta 0:00:01\n",
      "     ---------------------------------------  7.6/7.6 MB 4.6 MB/s eta 0:00:01\n",
      "     ---------------------------------------  7.6/7.6 MB 4.6 MB/s eta 0:00:01\n",
      "     ---------------------------------------  7.6/7.6 MB 4.6 MB/s eta 0:00:01\n",
      "     ---------------------------------------  7.6/7.6 MB 4.6 MB/s eta 0:00:01\n",
      "     ---------------------------------------  7.6/7.6 MB 4.6 MB/s eta 0:00:01\n",
      "     ---------------------------------------  7.6/7.6 MB 4.6 MB/s eta 0:00:01\n",
      "     ---------------------------------------  7.6/7.6 MB 4.6 MB/s eta 0:00:01\n",
      "     ---------------------------------------  7.6/7.6 MB 4.6 MB/s eta 0:00:01\n",
      "     ---------------------------------------  7.6/7.6 MB 4.6 MB/s eta 0:00:01\n",
      "     ---------------------------------------  7.6/7.6 MB 4.6 MB/s eta 0:00:01\n",
      "     ---------------------------------------  7.6/7.6 MB 4.6 MB/s eta 0:00:01\n",
      "     ---------------------------------------  7.6/7.6 MB 4.6 MB/s eta 0:00:01\n",
      "     ---------------------------------------  7.6/7.6 MB 4.6 MB/s eta 0:00:01\n",
      "     ---------------------------------------  7.6/7.6 MB 4.6 MB/s eta 0:00:01\n",
      "     ---------------------------------------  7.6/7.6 MB 4.6 MB/s eta 0:00:01\n",
      "     ---------------------------------------  7.6/7.6 MB 4.6 MB/s eta 0:00:01\n",
      "     ---------------------------------------- 7.6/7.6 MB 3.2 MB/s eta 0:00:00\n",
      "Collecting contourpy>=1.0.1 (from matplotlib!=3.6.1,>=3.3->seaborn)\n",
      "  Downloading contourpy-1.1.1-cp310-cp310-win_amd64.whl (477 kB)\n",
      "                                              0.0/478.0 kB ? eta -:--:--\n",
      "     -----------------------------------    440.3/478.0 kB 9.2 MB/s eta 0:00:01\n",
      "     -------------------------------------  471.0/478.0 kB 7.3 MB/s eta 0:00:01\n",
      "     -------------------------------------- 478.0/478.0 kB 3.3 MB/s eta 0:00:00\n",
      "Collecting cycler>=0.10 (from matplotlib!=3.6.1,>=3.3->seaborn)\n",
      "  Downloading cycler-0.12.0-py3-none-any.whl (8.2 kB)\n",
      "Collecting fonttools>=4.22.0 (from matplotlib!=3.6.1,>=3.3->seaborn)\n",
      "  Downloading fonttools-4.43.0-cp310-cp310-win_amd64.whl (2.1 MB)\n",
      "                                              0.0/2.1 MB ? eta -:--:--\n",
      "     ---------------------------------        1.8/2.1 MB 38.1 MB/s eta 0:00:01\n",
      "     ---------------------------------------  2.1/2.1 MB 27.2 MB/s eta 0:00:01\n",
      "     ---------------------------------------  2.1/2.1 MB 27.2 MB/s eta 0:00:01\n",
      "     ---------------------------------------  2.1/2.1 MB 27.2 MB/s eta 0:00:01\n",
      "     ---------------------------------------  2.1/2.1 MB 27.2 MB/s eta 0:00:01\n",
      "     ---------------------------------------  2.1/2.1 MB 27.2 MB/s eta 0:00:01\n",
      "     ---------------------------------------  2.1/2.1 MB 27.2 MB/s eta 0:00:01\n",
      "     ---------------------------------------  2.1/2.1 MB 27.2 MB/s eta 0:00:01\n",
      "     ---------------------------------------  2.1/2.1 MB 27.2 MB/s eta 0:00:01\n",
      "     ---------------------------------------  2.1/2.1 MB 27.2 MB/s eta 0:00:01\n",
      "     ---------------------------------------  2.1/2.1 MB 27.2 MB/s eta 0:00:01\n",
      "     ---------------------------------------  2.1/2.1 MB 27.2 MB/s eta 0:00:01\n",
      "     ---------------------------------------  2.1/2.1 MB 27.2 MB/s eta 0:00:01\n",
      "     ---------------------------------------  2.1/2.1 MB 27.2 MB/s eta 0:00:01\n",
      "     ---------------------------------------  2.1/2.1 MB 27.2 MB/s eta 0:00:01\n",
      "     ---------------------------------------  2.1/2.1 MB 27.2 MB/s eta 0:00:01\n",
      "     ---------------------------------------  2.1/2.1 MB 27.2 MB/s eta 0:00:01\n",
      "     ---------------------------------------- 2.1/2.1 MB 2.5 MB/s eta 0:00:00\n",
      "Collecting kiwisolver>=1.0.1 (from matplotlib!=3.6.1,>=3.3->seaborn)\n",
      "  Downloading kiwisolver-1.4.5-cp310-cp310-win_amd64.whl (56 kB)\n",
      "                                              0.0/56.1 kB ? eta -:--:--\n",
      "     ------------------------------------     51.2/56.1 kB ? eta -:--:--\n",
      "     ------------------------------------     51.2/56.1 kB ? eta -:--:--\n",
      "     ------------------------------------     51.2/56.1 kB ? eta -:--:--\n",
      "     ------------------------------------     51.2/56.1 kB ? eta -:--:--\n",
      "     ------------------------------------     51.2/56.1 kB ? eta -:--:--\n",
      "     ------------------------------------     51.2/56.1 kB ? eta -:--:--\n",
      "     ------------------------------------     51.2/56.1 kB ? eta -:--:--\n",
      "     ------------------------------------     51.2/56.1 kB ? eta -:--:--\n",
      "     ------------------------------------     51.2/56.1 kB ? eta -:--:--\n",
      "     ------------------------------------     51.2/56.1 kB ? eta -:--:--\n",
      "     ------------------------------------     51.2/56.1 kB ? eta -:--:--\n",
      "     ------------------------------------     51.2/56.1 kB ? eta -:--:--\n",
      "     ------------------------------------     51.2/56.1 kB ? eta -:--:--\n",
      "     ------------------------------------     51.2/56.1 kB ? eta -:--:--\n",
      "     ------------------------------------     51.2/56.1 kB ? eta -:--:--\n",
      "     ------------------------------------     51.2/56.1 kB ? eta -:--:--\n",
      "     ------------------------------------     51.2/56.1 kB ? eta -:--:--\n",
      "     ------------------------------------     51.2/56.1 kB ? eta -:--:--\n",
      "     ------------------------------------     51.2/56.1 kB ? eta -:--:--\n",
      "     ------------------------------------     51.2/56.1 kB ? eta -:--:--\n",
      "     ------------------------------------     51.2/56.1 kB ? eta -:--:--\n",
      "     ------------------------------------     51.2/56.1 kB ? eta -:--:--\n",
      "     ------------------------------------     51.2/56.1 kB ? eta -:--:--\n",
      "     --------------------------------------- 56.1/56.1 kB 41.9 kB/s eta 0:00:00\n",
      "Requirement already satisfied: packaging>=20.0 in c:\\users\\hp\\appdata\\local\\programs\\python\\python310\\lib\\site-packages (from matplotlib!=3.6.1,>=3.3->seaborn) (23.0)\n",
      "Requirement already satisfied: pillow>=6.2.0 in c:\\users\\hp\\appdata\\local\\programs\\python\\python310\\lib\\site-packages (from matplotlib!=3.6.1,>=3.3->seaborn) (9.4.0)\n",
      "Collecting pyparsing>=2.3.1 (from matplotlib!=3.6.1,>=3.3->seaborn)\n",
      "  Using cached pyparsing-3.1.1-py3-none-any.whl (103 kB)\n",
      "Requirement already satisfied: python-dateutil>=2.7 in c:\\users\\hp\\appdata\\local\\programs\\python\\python310\\lib\\site-packages (from matplotlib!=3.6.1,>=3.3->seaborn) (2.8.2)\n",
      "Requirement already satisfied: pytz>=2020.1 in c:\\users\\hp\\appdata\\local\\programs\\python\\python310\\lib\\site-packages (from pandas>=1.2->seaborn) (2022.7.1)\n",
      "Requirement already satisfied: six>=1.5 in c:\\users\\hp\\appdata\\local\\programs\\python\\python310\\lib\\site-packages (from python-dateutil>=2.7->matplotlib!=3.6.1,>=3.3->seaborn) (1.16.0)\n",
      "Installing collected packages: pyparsing, kiwisolver, fonttools, cycler, contourpy, matplotlib, seaborn\n",
      "Successfully installed contourpy-1.1.1 cycler-0.12.0 fonttools-4.43.0 kiwisolver-1.4.5 matplotlib-3.8.0 pyparsing-3.1.1 seaborn-0.13.0\n"
     ]
    },
    {
     "name": "stderr",
     "output_type": "stream",
     "text": [
      "\n",
      "[notice] A new release of pip is available: 23.1.2 -> 23.2.1\n",
      "[notice] To update, run: python.exe -m pip install --upgrade pip\n"
     ]
    }
   ],
   "source": [
    "%pip install seaborn"
   ]
  },
  {
   "cell_type": "code",
   "execution_count": 11,
   "metadata": {},
   "outputs": [],
   "source": [
    "data=pd.read_csv(r\"C:\\Users\\hp\\OneDrive\\Masaüstü\\advertising.csv\")"
   ]
  },
  {
   "cell_type": "code",
   "execution_count": 12,
   "metadata": {},
   "outputs": [
    {
     "name": "stdout",
     "output_type": "stream",
     "text": [
      "THERE IS NO NULL VALUE IN YOUR DATA\n"
     ]
    }
   ],
   "source": [
    "if data.isnull().sum().sum()==0 and data.isnull().sum().sum()==0:\n",
    "    print(\"THERE IS NO NULL VALUE IN YOUR DATA\")\n",
    "else:\n",
    "    print('your data contains :', data.isnull().sum().sum(), \"null value\")"
   ]
  },
  {
   "cell_type": "code",
   "execution_count": 13,
   "metadata": {},
   "outputs": [
    {
     "name": "stdout",
     "output_type": "stream",
     "text": [
      "<class 'pandas.core.frame.DataFrame'>\n",
      "RangeIndex: 200 entries, 0 to 199\n",
      "Data columns (total 4 columns):\n",
      " #   Column     Non-Null Count  Dtype  \n",
      "---  ------     --------------  -----  \n",
      " 0   TV         200 non-null    float64\n",
      " 1   Radio      200 non-null    float64\n",
      " 2   Newspaper  200 non-null    float64\n",
      " 3   Sales      200 non-null    float64\n",
      "dtypes: float64(4)\n",
      "memory usage: 6.4 KB\n"
     ]
    }
   ],
   "source": [
    "data.info()"
   ]
  },
  {
   "cell_type": "code",
   "execution_count": 14,
   "metadata": {},
   "outputs": [
    {
     "data": {
      "text/html": [
       "<div>\n",
       "<style scoped>\n",
       "    .dataframe tbody tr th:only-of-type {\n",
       "        vertical-align: middle;\n",
       "    }\n",
       "\n",
       "    .dataframe tbody tr th {\n",
       "        vertical-align: top;\n",
       "    }\n",
       "\n",
       "    .dataframe thead th {\n",
       "        text-align: right;\n",
       "    }\n",
       "</style>\n",
       "<table border=\"1\" class=\"dataframe\">\n",
       "  <thead>\n",
       "    <tr style=\"text-align: right;\">\n",
       "      <th></th>\n",
       "      <th>TV</th>\n",
       "      <th>Radio</th>\n",
       "      <th>Newspaper</th>\n",
       "      <th>Sales</th>\n",
       "    </tr>\n",
       "  </thead>\n",
       "  <tbody>\n",
       "    <tr>\n",
       "      <th>count</th>\n",
       "      <td>200.000000</td>\n",
       "      <td>200.000000</td>\n",
       "      <td>200.000000</td>\n",
       "      <td>200.000000</td>\n",
       "    </tr>\n",
       "    <tr>\n",
       "      <th>mean</th>\n",
       "      <td>147.042500</td>\n",
       "      <td>23.264000</td>\n",
       "      <td>30.554000</td>\n",
       "      <td>15.130500</td>\n",
       "    </tr>\n",
       "    <tr>\n",
       "      <th>std</th>\n",
       "      <td>85.854236</td>\n",
       "      <td>14.846809</td>\n",
       "      <td>21.778621</td>\n",
       "      <td>5.283892</td>\n",
       "    </tr>\n",
       "    <tr>\n",
       "      <th>min</th>\n",
       "      <td>0.700000</td>\n",
       "      <td>0.000000</td>\n",
       "      <td>0.300000</td>\n",
       "      <td>1.600000</td>\n",
       "    </tr>\n",
       "    <tr>\n",
       "      <th>25%</th>\n",
       "      <td>74.375000</td>\n",
       "      <td>9.975000</td>\n",
       "      <td>12.750000</td>\n",
       "      <td>11.000000</td>\n",
       "    </tr>\n",
       "    <tr>\n",
       "      <th>50%</th>\n",
       "      <td>149.750000</td>\n",
       "      <td>22.900000</td>\n",
       "      <td>25.750000</td>\n",
       "      <td>16.000000</td>\n",
       "    </tr>\n",
       "    <tr>\n",
       "      <th>75%</th>\n",
       "      <td>218.825000</td>\n",
       "      <td>36.525000</td>\n",
       "      <td>45.100000</td>\n",
       "      <td>19.050000</td>\n",
       "    </tr>\n",
       "    <tr>\n",
       "      <th>max</th>\n",
       "      <td>296.400000</td>\n",
       "      <td>49.600000</td>\n",
       "      <td>114.000000</td>\n",
       "      <td>27.000000</td>\n",
       "    </tr>\n",
       "  </tbody>\n",
       "</table>\n",
       "</div>"
      ],
      "text/plain": [
       "               TV       Radio   Newspaper       Sales\n",
       "count  200.000000  200.000000  200.000000  200.000000\n",
       "mean   147.042500   23.264000   30.554000   15.130500\n",
       "std     85.854236   14.846809   21.778621    5.283892\n",
       "min      0.700000    0.000000    0.300000    1.600000\n",
       "25%     74.375000    9.975000   12.750000   11.000000\n",
       "50%    149.750000   22.900000   25.750000   16.000000\n",
       "75%    218.825000   36.525000   45.100000   19.050000\n",
       "max    296.400000   49.600000  114.000000   27.000000"
      ]
     },
     "execution_count": 14,
     "metadata": {},
     "output_type": "execute_result"
    }
   ],
   "source": [
    "data.describe()"
   ]
  },
  {
   "cell_type": "code",
   "execution_count": 15,
   "metadata": {},
   "outputs": [
    {
     "data": {
      "text/plain": [
       "<Axes: >"
      ]
     },
     "execution_count": 15,
     "metadata": {},
     "output_type": "execute_result"
    },
    {
     "data": {
      "image/png": "[encoded data removed]",
      "text/plain": [
       "<Figure size 640x480 with 1 Axes>"
      ]
     },
     "metadata": {},
     "output_type": "display_data"
    }
   ],
   "source": [
    "sns.boxplot(data)"
   ]
  },
  {
   "cell_type": "markdown",
   "metadata": {},
   "source": [
    "Seems like only column Newspapers has few outliers"
   ]
  },
  {
   "cell_type": "code",
   "execution_count": 16,
   "metadata": {},
   "outputs": [
    {
     "data": {
      "text/plain": [
       "[Text(0.5, 1.0, 'Correlation between Sales and TV expenditure')]"
      ]
     },
     "execution_count": 16,
     "metadata": {},
     "output_type": "execute_result"
    },
    {
     "data": {
      "image/png": "[encoded data removed]",
      "text/plain": [
       "<Figure size 640x480 with 1 Axes>"
      ]
     },
     "metadata": {},
     "output_type": "display_data"
    }
   ],
   "source": [
    "sns.scatterplot(data=data, x=\"TV\",y=\"Sales\").set(title=\"Correlation between Sales and TV expenditure\")"
   ]
  },
  {
   "cell_type": "code",
   "execution_count": 17,
   "metadata": {},
   "outputs": [],
   "source": [
    "\n",
    "import seaborn as sns\n",
    "import numpy as np\n",
    "import pandas as pd\n",
    "import matplotlib.pyplot as plt"
   ]
  },
  {
   "cell_type": "code",
   "execution_count": 18,
   "metadata": {},
   "outputs": [
    {
     "data": {
      "image/png": "[encoded data removed]",
      "text/plain": [
       "<Figure size 2000x500 with 3 Axes>"
      ]
     },
     "metadata": {},
     "output_type": "display_data"
    }
   ],
   "source": [
    "fig, axes = plt.subplots(1,3, figsize=(20,5))\n",
    " \n",
    "fig.suptitle('correlation')\n",
    "sns.scatterplot(ax=axes[0], data=data, x='TV', y='Sales')\n",
    "sns.scatterplot(ax=axes[1], data=data, x='Radio', y='Sales')\n",
    "sns.scatterplot(ax=axes[2], data=data, x='Newspaper', y='Sales')\n",
    "plt.show()\n",
    "\n",
    "# seems like only TV and Sales has the linear correlation"
   ]
  },
  {
   "cell_type": "code",
   "execution_count": 19,
   "metadata": {},
   "outputs": [
    {
     "data": {
      "image/png": "[encoded data removed]",
      "text/plain": [
       "<Figure size 640x480 with 2 Axes>"
      ]
     },
     "metadata": {},
     "output_type": "display_data"
    }
   ],
   "source": [
    "dataplot = sns.heatmap(data.corr(), cmap=\"YlGnBu\", annot=True)\n",
    "plt.show()"
   ]
  },
  {
   "cell_type": "code",
   "execution_count": 20,
   "metadata": {},
   "outputs": [],
   "source": [
    "#So it is so obvious that Money spend on Tv advertisement directly has strong affect on Sales in a posictive way."
   ]
  },
  {
   "cell_type": "code",
   "execution_count": 21,
   "metadata": {},
   "outputs": [],
   "source": [
    "data.drop([\"Newspaper\",\"Radio\"],axis=1,inplace=True)"
   ]
  },
  {
   "cell_type": "code",
   "execution_count": 22,
   "metadata": {},
   "outputs": [
    {
     "data": {
      "text/html": [
       "<div>\n",
       "<style scoped>\n",
       "    .dataframe tbody tr th:only-of-type {\n",
       "        vertical-align: middle;\n",
       "    }\n",
       "\n",
       "    .dataframe tbody tr th {\n",
       "        vertical-align: top;\n",
       "    }\n",
       "\n",
       "    .dataframe thead th {\n",
       "        text-align: right;\n",
       "    }\n",
       "</style>\n",
       "<table border=\"1\" class=\"dataframe\">\n",
       "  <thead>\n",
       "    <tr style=\"text-align: right;\">\n",
       "      <th></th>\n",
       "      <th>TV</th>\n",
       "      <th>Sales</th>\n",
       "    </tr>\n",
       "  </thead>\n",
       "  <tbody>\n",
       "    <tr>\n",
       "      <th>0</th>\n",
       "      <td>230.1</td>\n",
       "      <td>22.1</td>\n",
       "    </tr>\n",
       "    <tr>\n",
       "      <th>1</th>\n",
       "      <td>44.5</td>\n",
       "      <td>10.4</td>\n",
       "    </tr>\n",
       "    <tr>\n",
       "      <th>2</th>\n",
       "      <td>17.2</td>\n",
       "      <td>12.0</td>\n",
       "    </tr>\n",
       "    <tr>\n",
       "      <th>3</th>\n",
       "      <td>151.5</td>\n",
       "      <td>16.5</td>\n",
       "    </tr>\n",
       "    <tr>\n",
       "      <th>4</th>\n",
       "      <td>180.8</td>\n",
       "      <td>17.9</td>\n",
       "    </tr>\n",
       "    <tr>\n",
       "      <th>...</th>\n",
       "      <td>...</td>\n",
       "      <td>...</td>\n",
       "    </tr>\n",
       "    <tr>\n",
       "      <th>195</th>\n",
       "      <td>38.2</td>\n",
       "      <td>7.6</td>\n",
       "    </tr>\n",
       "    <tr>\n",
       "      <th>196</th>\n",
       "      <td>94.2</td>\n",
       "      <td>14.0</td>\n",
       "    </tr>\n",
       "    <tr>\n",
       "      <th>197</th>\n",
       "      <td>177.0</td>\n",
       "      <td>14.8</td>\n",
       "    </tr>\n",
       "    <tr>\n",
       "      <th>198</th>\n",
       "      <td>283.6</td>\n",
       "      <td>25.5</td>\n",
       "    </tr>\n",
       "    <tr>\n",
       "      <th>199</th>\n",
       "      <td>232.1</td>\n",
       "      <td>18.4</td>\n",
       "    </tr>\n",
       "  </tbody>\n",
       "</table>\n",
       "<p>200 rows × 2 columns</p>\n",
       "</div>"
      ],
      "text/plain": [
       "        TV  Sales\n",
       "0    230.1   22.1\n",
       "1     44.5   10.4\n",
       "2     17.2   12.0\n",
       "3    151.5   16.5\n",
       "4    180.8   17.9\n",
       "..     ...    ...\n",
       "195   38.2    7.6\n",
       "196   94.2   14.0\n",
       "197  177.0   14.8\n",
       "198  283.6   25.5\n",
       "199  232.1   18.4\n",
       "\n",
       "[200 rows x 2 columns]"
      ]
     },
     "execution_count": 22,
     "metadata": {},
     "output_type": "execute_result"
    }
   ],
   "source": [
    "data"
   ]
  },
  {
   "cell_type": "code",
   "execution_count": 23,
   "metadata": {},
   "outputs": [],
   "source": [
    "from sklearn.linear_model import LinearRegression\n",
    "from sklearn.model_selection import train_test_split"
   ]
  },
  {
   "cell_type": "code",
   "execution_count": 53,
   "metadata": {},
   "outputs": [],
   "source": [
    "x=data[[\"TV\"]]\n",
    "Y=data[[\"Sales\"]]\n",
    "x_train,x_test,Y_train,Y_test=train_test_split(x,Y,test_size=0.1)"
   ]
  },
  {
   "cell_type": "code",
   "execution_count": 54,
   "metadata": {},
   "outputs": [
    {
     "data": {
      "text/html": [
       "<div>\n",
       "<style scoped>\n",
       "    .dataframe tbody tr th:only-of-type {\n",
       "        vertical-align: middle;\n",
       "    }\n",
       "\n",
       "    .dataframe tbody tr th {\n",
       "        vertical-align: top;\n",
       "    }\n",
       "\n",
       "    .dataframe thead th {\n",
       "        text-align: right;\n",
       "    }\n",
       "</style>\n",
       "<table border=\"1\" class=\"dataframe\">\n",
       "  <thead>\n",
       "    <tr style=\"text-align: right;\">\n",
       "      <th></th>\n",
       "      <th>Sales</th>\n",
       "    </tr>\n",
       "  </thead>\n",
       "  <tbody>\n",
       "    <tr>\n",
       "      <th>112</th>\n",
       "      <td>17.1</td>\n",
       "    </tr>\n",
       "    <tr>\n",
       "      <th>129</th>\n",
       "      <td>9.7</td>\n",
       "    </tr>\n",
       "    <tr>\n",
       "      <th>58</th>\n",
       "      <td>23.8</td>\n",
       "    </tr>\n",
       "    <tr>\n",
       "      <th>39</th>\n",
       "      <td>21.5</td>\n",
       "    </tr>\n",
       "    <tr>\n",
       "      <th>6</th>\n",
       "      <td>11.8</td>\n",
       "    </tr>\n",
       "    <tr>\n",
       "      <th>...</th>\n",
       "      <td>...</td>\n",
       "    </tr>\n",
       "    <tr>\n",
       "      <th>169</th>\n",
       "      <td>20.0</td>\n",
       "    </tr>\n",
       "    <tr>\n",
       "      <th>97</th>\n",
       "      <td>20.5</td>\n",
       "    </tr>\n",
       "    <tr>\n",
       "      <th>165</th>\n",
       "      <td>16.9</td>\n",
       "    </tr>\n",
       "    <tr>\n",
       "      <th>122</th>\n",
       "      <td>16.6</td>\n",
       "    </tr>\n",
       "    <tr>\n",
       "      <th>10</th>\n",
       "      <td>12.6</td>\n",
       "    </tr>\n",
       "  </tbody>\n",
       "</table>\n",
       "<p>180 rows × 1 columns</p>\n",
       "</div>"
      ],
      "text/plain": [
       "     Sales\n",
       "112   17.1\n",
       "129    9.7\n",
       "58    23.8\n",
       "39    21.5\n",
       "6     11.8\n",
       "..     ...\n",
       "169   20.0\n",
       "97    20.5\n",
       "165   16.9\n",
       "122   16.6\n",
       "10    12.6\n",
       "\n",
       "[180 rows x 1 columns]"
      ]
     },
     "execution_count": 54,
     "metadata": {},
     "output_type": "execute_result"
    }
   ],
   "source": [
    "x_train\n",
    "Y_train"
   ]
  },
  {
   "cell_type": "code",
   "execution_count": 55,
   "metadata": {},
   "outputs": [],
   "source": [
    "regressor=LinearRegression()"
   ]
  },
  {
   "cell_type": "code",
   "execution_count": 56,
   "metadata": {},
   "outputs": [],
   "source": [
    "model=regressor.fit(x_train,Y_train)"
   ]
  },
  {
   "cell_type": "code",
   "execution_count": 57,
   "metadata": {},
   "outputs": [],
   "source": [
    "Y_pred=model.predict(x_test)"
   ]
  },
  {
   "cell_type": "code",
   "execution_count": 58,
   "metadata": {},
   "outputs": [
    {
     "data": {
      "text/plain": [
       "array([[18.9],\n",
       "       [ 7. ],\n",
       "       [16.1],\n",
       "       [14.6],\n",
       "       [11.9],\n",
       "       [18. ],\n",
       "       [11.9],\n",
       "       [11.3],\n",
       "       [11.3],\n",
       "       [17.5],\n",
       "       [15. ],\n",
       "       [ 6.7],\n",
       "       [27. ],\n",
       "       [18.4],\n",
       "       [16.4],\n",
       "       [16.6],\n",
       "       [ 8.7],\n",
       "       [21.4],\n",
       "       [18. ],\n",
       "       [18.3]])"
      ]
     },
     "execution_count": 58,
     "metadata": {},
     "output_type": "execute_result"
    }
   ],
   "source": [
    "Y_test.to_numpy()"
   ]
  },
  {
   "cell_type": "code",
   "execution_count": 59,
   "metadata": {},
   "outputs": [],
   "source": [
    "a={\"Actual\":Y_test.to_numpy(),\"Predicted\":Y_pred}"
   ]
  },
  {
   "cell_type": "code",
   "execution_count": 60,
   "metadata": {},
   "outputs": [],
   "source": [
    "DF=pd.DataFrame()\n",
    "DF[\"actual value\"]=Y_test\n",
    "DF[\"Predicted value\"]=Y_pred"
   ]
  },
  {
   "cell_type": "code",
   "execution_count": 61,
   "metadata": {},
   "outputs": [
    {
     "data": {
      "text/html": [
       "<div>\n",
       "<style scoped>\n",
       "    .dataframe tbody tr th:only-of-type {\n",
       "        vertical-align: middle;\n",
       "    }\n",
       "\n",
       "    .dataframe tbody tr th {\n",
       "        vertical-align: top;\n",
       "    }\n",
       "\n",
       "    .dataframe thead th {\n",
       "        text-align: right;\n",
       "    }\n",
       "</style>\n",
       "<table border=\"1\" class=\"dataframe\">\n",
       "  <thead>\n",
       "    <tr style=\"text-align: right;\">\n",
       "      <th></th>\n",
       "      <th>actual value</th>\n",
       "      <th>Predicted value</th>\n",
       "    </tr>\n",
       "  </thead>\n",
       "  <tbody>\n",
       "    <tr>\n",
       "      <th>28</th>\n",
       "      <td>18.9</td>\n",
       "      <td>20.871029</td>\n",
       "    </tr>\n",
       "    <tr>\n",
       "      <th>121</th>\n",
       "      <td>7.0</td>\n",
       "      <td>7.999187</td>\n",
       "    </tr>\n",
       "    <tr>\n",
       "      <th>150</th>\n",
       "      <td>16.1</td>\n",
       "      <td>22.656297</td>\n",
       "    </tr>\n",
       "    <tr>\n",
       "      <th>19</th>\n",
       "      <td>14.6</td>\n",
       "      <td>15.190629</td>\n",
       "    </tr>\n",
       "    <tr>\n",
       "      <th>127</th>\n",
       "      <td>11.9</td>\n",
       "      <td>11.435409</td>\n",
       "    </tr>\n",
       "    <tr>\n",
       "      <th>20</th>\n",
       "      <td>18.0</td>\n",
       "      <td>19.169707</td>\n",
       "    </tr>\n",
       "    <tr>\n",
       "      <th>191</th>\n",
       "      <td>11.9</td>\n",
       "      <td>11.172376</td>\n",
       "    </tr>\n",
       "    <tr>\n",
       "      <th>18</th>\n",
       "      <td>11.3</td>\n",
       "      <td>10.819799</td>\n",
       "    </tr>\n",
       "    <tr>\n",
       "      <th>65</th>\n",
       "      <td>11.3</td>\n",
       "      <td>10.808606</td>\n",
       "    </tr>\n",
       "    <tr>\n",
       "      <th>171</th>\n",
       "      <td>17.5</td>\n",
       "      <td>16.153219</td>\n",
       "    </tr>\n",
       "    <tr>\n",
       "      <th>105</th>\n",
       "      <td>15.0</td>\n",
       "      <td>14.664562</td>\n",
       "    </tr>\n",
       "    <tr>\n",
       "      <th>189</th>\n",
       "      <td>6.7</td>\n",
       "      <td>7.993591</td>\n",
       "    </tr>\n",
       "    <tr>\n",
       "      <th>175</th>\n",
       "      <td>27.0</td>\n",
       "      <td>22.443632</td>\n",
       "    </tr>\n",
       "    <tr>\n",
       "      <th>59</th>\n",
       "      <td>18.4</td>\n",
       "      <td>18.738780</td>\n",
       "    </tr>\n",
       "    <tr>\n",
       "      <th>50</th>\n",
       "      <td>16.4</td>\n",
       "      <td>18.128767</td>\n",
       "    </tr>\n",
       "    <tr>\n",
       "      <th>40</th>\n",
       "      <td>16.6</td>\n",
       "      <td>18.279871</td>\n",
       "    </tr>\n",
       "    <tr>\n",
       "      <th>182</th>\n",
       "      <td>8.7</td>\n",
       "      <td>10.092260</td>\n",
       "    </tr>\n",
       "    <tr>\n",
       "      <th>30</th>\n",
       "      <td>21.4</td>\n",
       "      <td>23.339065</td>\n",
       "    </tr>\n",
       "    <tr>\n",
       "      <th>163</th>\n",
       "      <td>18.0</td>\n",
       "      <td>16.097254</td>\n",
       "    </tr>\n",
       "    <tr>\n",
       "      <th>70</th>\n",
       "      <td>18.3</td>\n",
       "      <td>18.089592</td>\n",
       "    </tr>\n",
       "  </tbody>\n",
       "</table>\n",
       "</div>"
      ],
      "text/plain": [
       "     actual value  Predicted value\n",
       "28           18.9        20.871029\n",
       "121           7.0         7.999187\n",
       "150          16.1        22.656297\n",
       "19           14.6        15.190629\n",
       "127          11.9        11.435409\n",
       "20           18.0        19.169707\n",
       "191          11.9        11.172376\n",
       "18           11.3        10.819799\n",
       "65           11.3        10.808606\n",
       "171          17.5        16.153219\n",
       "105          15.0        14.664562\n",
       "189           6.7         7.993591\n",
       "175          27.0        22.443632\n",
       "59           18.4        18.738780\n",
       "50           16.4        18.128767\n",
       "40           16.6        18.279871\n",
       "182           8.7        10.092260\n",
       "30           21.4        23.339065\n",
       "163          18.0        16.097254\n",
       "70           18.3        18.089592"
      ]
     },
     "execution_count": 61,
     "metadata": {},
     "output_type": "execute_result"
    }
   ],
   "source": [
    "DF"
   ]
  },
  {
   "cell_type": "code",
   "execution_count": 62,
   "metadata": {},
   "outputs": [
    {
     "name": "stdout",
     "output_type": "stream",
     "text": [
      "0.807832306174563\n",
      "2.1266336286099556\n",
      "1.5087366348436595\n"
     ]
    }
   ],
   "source": [
    "from sklearn import metrics\n",
    "print(metrics.r2_score(Y_test,Y_pred))\n",
    "print(np.sqrt(metrics.mean_squared_error(Y_test,Y_pred)))\n",
    "print(metrics.mean_absolute_error(Y_test,Y_pred))"
   ]
  },
  {
   "cell_type": "code",
   "execution_count": 63,
   "metadata": {},
   "outputs": [],
   "source": [
    "y_train_predict=model.predict(x_train)"
   ]
  },
  {
   "cell_type": "code",
   "execution_count": 64,
   "metadata": {},
   "outputs": [
    {
     "name": "stdout",
     "output_type": "stream",
     "text": [
      "Train R2\n"
     ]
    },
    {
     "data": {
      "text/plain": [
       "0.8124117724548703"
      ]
     },
     "execution_count": 64,
     "metadata": {},
     "output_type": "execute_result"
    }
   ],
   "source": [
    "print(\"Train R2\")\n",
    "metrics.r2_score(Y_train,y_train_predict)"
   ]
  },
  {
   "cell_type": "code",
   "execution_count": 67,
   "metadata": {},
   "outputs": [
    {
     "name": "stdout",
     "output_type": "stream",
     "text": [
      "Cv_predicted evaluations\n",
      "accuracy score:  0.8083800462900472\n"
     ]
    }
   ],
   "source": [
    "from sklearn.model_selection import cross_val_score\n",
    "from sklearn.model_selection import cross_val_predict\n",
    "lm_cv=LinearRegression()\n",
    "cv_pred=cross_val_predict(estimator=lm_cv,X=x_train, y=Y_train,cv=5)\n",
    "print(\"Cv_predicted evaluations\")\n",
    "print(\"accuracy score: \", metrics.r2_score(y_true=Y_train,y_pred=cv_pred))\n"
   ]
  },
  {
   "cell_type": "code",
   "execution_count": null,
   "metadata": {},
   "outputs": [],
   "source": []
  },
  {
   "cell_type": "code",
   "execution_count": null,
   "metadata": {},
   "outputs": [],
   "source": []
  },
  {
   "cell_type": "code",
   "execution_count": null,
   "metadata": {},
   "outputs": [],
   "source": []
  }
 ],
 "metadata": {
  "kernelspec": {
   "display_name": "Python 3",
   "language": "python",
   "name": "python3"
  },
  "language_info": {
   "codemirror_mode": {
    "name": "ipython",
    "version": 3
   },
   "file_extension": ".py",
   "mimetype": "text/x-python",
   "name": "python",
   "nbconvert_exporter": "python",
   "pygments_lexer": "ipython3",
   "version": "3.10.9"
  },
  "orig_nbformat": 4
 },
 "nbformat": 4,
 "nbformat_minor": 2
}
